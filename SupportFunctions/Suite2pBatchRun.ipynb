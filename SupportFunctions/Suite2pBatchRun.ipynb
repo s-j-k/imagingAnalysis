{
 "cells": [
  {
   "cell_type": "code",
   "execution_count": null,
   "metadata": {},
   "outputs": [],
   "source": []
  },
  {
   "cell_type": "code",
   "execution_count": null,
   "metadata": {
    "scrolled": true
   },
   "outputs": [
    {
     "name": "stdout",
     "output_type": "stream",
     "text": [
      "{'look_one_level_down': False, 'fast_disk': [], 'delete_bin': False, 'mesoscan': False, 'h5py': [], 'h5py_key': 'data', 'save_path0': [], 'save_folder': [], 'subfolders': [], 'nplanes': 2, 'nchannels': 1, 'functional_chan': 1, 'tau': 1.7, 'fs': 15.63, 'force_sktiff': False, 'preclassify': 0.0, 'save_mat': True, 'combined': True, 'aspect': 1.0, 'do_bidiphase': False, 'bidiphase': 0, 'do_registration': 1, 'keep_movie_raw': False, 'nimg_init': 300, 'batch_size': 500, 'maxregshift': 0.1, 'align_by_chan': 1, 'reg_tif': False, 'reg_tif_chan2': False, 'subpixel': 10, 'smooth_sigma': 1.15, 'th_badframes': 1.0, 'pad_fft': False, 'nonrigid': True, 'block_size': [128, 128], 'snr_thresh': 1.2, 'maxregshiftNR': 5, '1Preg': False, 'spatial_hp': 25, 'pre_smooth': 2, 'spatial_taper': 50, 'roidetect': True, 'sparse_mode': False, 'diameter': 10, 'spatial_scale': 0, 'connected': True, 'nbinned': 5000, 'max_iterations': 20, 'threshold_scaling': 1.0, 'max_overlap': 0.75, 'high_pass': 100, 'inner_neuropil_radius': 2, 'min_neuropil_pixels': 350, 'allow_overlap': False, 'chan2_thres': 0.65, 'baseline': 'maximin', 'win_baseline': 60.0, 'sig_baseline': 10.0, 'prctile_baseline': 8.0, 'neucoeff': 0.7, 'xrange': array([0, 0]), 'yrange': array([0, 0])}\n",
      "{'h5py': 'K:/Jenni/se063/day2/se063_002_000.h5', 'h5py_key': ['data'], 'data_path': 'K:/Jenni/se063/day2'}\n"
     ]
    }
   ],
   "source": [
    "import sys\n",
    "import os  \n",
    "sys.path.insert(0, 'E:/KishoreLab/env/LABsuite2p/Lib/')\n",
    "import suite2p\n",
    "from suite2p import run_s2p\n",
    "ops = run_s2p.default_ops() # populates ops with the default options\n",
    "ops['nplanes'] = 2\n",
    "ops['nchannels'] = 1 # Only for green channel animal\n",
    "ops['fs'] = 15.63\n",
    "ops['tau'] = 1.7\n",
    "ops['functional_chan'] = 1\n",
    "ops['save_mat'] = True\n",
    "ops['align_by_chan'] : 1\n",
    "ops['look_one_level_down']: True\n",
    "ops['diameter'] = 10\n",
    "print(ops)\n",
    "days = [2,5,6];\n",
    "for day in days: \n",
    "    data_folder = 'K:/Jenni/se063/day' + str(day)\n",
    "    listfiles = os.listdir(data_folder)\n",
    "    db = {\n",
    "        'h5py': 'K:/Jenni/se063/day' + str(day) + '/' + listfiles[0], # a single h5 file \n",
    "        'h5py_key': ['data'], # list of keys to use (they will be extracted in the order you give them\n",
    "        'data_path': data_folder\n",
    "        }\n",
    "\n",
    "    # run one experiment\n",
    "    opsEnd=run_s2p.run_s2p(ops=ops,db=db)"
   ]
  },
  {
   "cell_type": "code",
   "execution_count": 4,
   "metadata": {},
   "outputs": [
    {
     "name": "stdout",
     "output_type": "stream",
     "text": [
      "K:/Jenni/se063/day2\n",
      "K:/Jenni/se063/day5\n",
      "K:/Jenni/se063/day6\n"
     ]
    }
   ],
   "source": [
    "\n"
   ]
  },
  {
   "cell_type": "code",
   "execution_count": null,
   "metadata": {},
   "outputs": [],
   "source": []
  },
  {
   "cell_type": "code",
   "execution_count": null,
   "metadata": {},
   "outputs": [],
   "source": []
  },
  {
   "cell_type": "code",
   "execution_count": null,
   "metadata": {},
   "outputs": [],
   "source": []
  },
  {
   "cell_type": "code",
   "execution_count": null,
   "metadata": {},
   "outputs": [],
   "source": []
  }
 ],
 "metadata": {
  "kernelspec": {
   "display_name": "Python 3",
   "language": "python",
   "name": "python3"
  },
  "language_info": {
   "codemirror_mode": {
    "name": "ipython",
    "version": 3
   },
   "file_extension": ".py",
   "mimetype": "text/x-python",
   "name": "python",
   "nbconvert_exporter": "python",
   "pygments_lexer": "ipython3",
   "version": "3.7.5"
  }
 },
 "nbformat": 4,
 "nbformat_minor": 2
}
